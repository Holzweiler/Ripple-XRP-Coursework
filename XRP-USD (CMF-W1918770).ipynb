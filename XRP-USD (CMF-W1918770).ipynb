{
 "cells": [
  {
   "cell_type": "markdown",
   "id": "5b68593e",
   "metadata": {},
   "source": [
    "### IMPORT YAHOO FINANCE"
   ]
  },
  {
   "cell_type": "code",
   "execution_count": 62,
   "id": "88e2b49d",
   "metadata": {
    "scrolled": true
   },
   "outputs": [
    {
     "name": "stdout",
     "output_type": "stream",
     "text": [
      "Requirement already satisfied: yfinance in /Users/danielms/opt/anaconda3/lib/python3.9/site-packages (0.2.12)\n",
      "Requirement already satisfied: pandas>=1.3.0 in /Users/danielms/opt/anaconda3/lib/python3.9/site-packages (from yfinance) (1.4.4)\n",
      "Requirement already satisfied: beautifulsoup4>=4.11.1 in /Users/danielms/opt/anaconda3/lib/python3.9/site-packages (from yfinance) (4.11.1)\n",
      "Requirement already satisfied: appdirs>=1.4.4 in /Users/danielms/opt/anaconda3/lib/python3.9/site-packages (from yfinance) (1.4.4)\n",
      "Requirement already satisfied: html5lib>=1.1 in /Users/danielms/opt/anaconda3/lib/python3.9/site-packages (from yfinance) (1.1)\n",
      "Requirement already satisfied: pytz>=2022.5 in /Users/danielms/opt/anaconda3/lib/python3.9/site-packages (from yfinance) (2022.7.1)\n",
      "Requirement already satisfied: cryptography>=3.3.2 in /Users/danielms/opt/anaconda3/lib/python3.9/site-packages (from yfinance) (37.0.1)\n",
      "Requirement already satisfied: requests>=2.26 in /Users/danielms/opt/anaconda3/lib/python3.9/site-packages (from yfinance) (2.28.1)\n",
      "Requirement already satisfied: numpy>=1.16.5 in /Users/danielms/opt/anaconda3/lib/python3.9/site-packages (from yfinance) (1.21.5)\n",
      "Requirement already satisfied: frozendict>=2.3.4 in /Users/danielms/opt/anaconda3/lib/python3.9/site-packages (from yfinance) (2.3.5)\n",
      "Requirement already satisfied: multitasking>=0.0.7 in /Users/danielms/opt/anaconda3/lib/python3.9/site-packages (from yfinance) (0.0.11)\n",
      "Requirement already satisfied: lxml>=4.9.1 in /Users/danielms/opt/anaconda3/lib/python3.9/site-packages (from yfinance) (4.9.1)\n",
      "Requirement already satisfied: soupsieve>1.2 in /Users/danielms/opt/anaconda3/lib/python3.9/site-packages (from beautifulsoup4>=4.11.1->yfinance) (2.3.1)\n",
      "Requirement already satisfied: cffi>=1.12 in /Users/danielms/opt/anaconda3/lib/python3.9/site-packages (from cryptography>=3.3.2->yfinance) (1.15.1)\n",
      "Requirement already satisfied: six>=1.9 in /Users/danielms/opt/anaconda3/lib/python3.9/site-packages (from html5lib>=1.1->yfinance) (1.16.0)\n",
      "Requirement already satisfied: webencodings in /Users/danielms/opt/anaconda3/lib/python3.9/site-packages (from html5lib>=1.1->yfinance) (0.5.1)\n",
      "Requirement already satisfied: python-dateutil>=2.8.1 in /Users/danielms/opt/anaconda3/lib/python3.9/site-packages (from pandas>=1.3.0->yfinance) (2.8.2)\n",
      "Requirement already satisfied: certifi>=2017.4.17 in /Users/danielms/opt/anaconda3/lib/python3.9/site-packages (from requests>=2.26->yfinance) (2022.9.24)\n",
      "Requirement already satisfied: urllib3<1.27,>=1.21.1 in /Users/danielms/opt/anaconda3/lib/python3.9/site-packages (from requests>=2.26->yfinance) (1.26.11)\n",
      "Requirement already satisfied: charset-normalizer<3,>=2 in /Users/danielms/opt/anaconda3/lib/python3.9/site-packages (from requests>=2.26->yfinance) (2.0.4)\n",
      "Requirement already satisfied: idna<4,>=2.5 in /Users/danielms/opt/anaconda3/lib/python3.9/site-packages (from requests>=2.26->yfinance) (3.3)\n",
      "Requirement already satisfied: pycparser in /Users/danielms/opt/anaconda3/lib/python3.9/site-packages (from cffi>=1.12->cryptography>=3.3.2->yfinance) (2.21)\n",
      "Note: you may need to restart the kernel to use updated packages.\n"
     ]
    }
   ],
   "source": [
    "pip install yfinance"
   ]
  },
  {
   "cell_type": "markdown",
   "id": "75a824d2",
   "metadata": {},
   "source": [
    "### IMPORT RELEVANT MODULES"
   ]
  },
  {
   "cell_type": "code",
   "execution_count": 63,
   "id": "49c364c0",
   "metadata": {},
   "outputs": [],
   "source": [
    "import yfinance as yf\n",
    "import numpy as np\n",
    "import pandas as pd\n",
    "import matplotlib as mpl\n",
    "import matplotlib.pyplot as plt\n",
    "import scipy.stats as si"
   ]
  },
  {
   "cell_type": "markdown",
   "id": "5c0068e4",
   "metadata": {},
   "source": [
    "## TASK 1.1 Historical Data of XRP-USD"
   ]
  },
  {
   "cell_type": "code",
   "execution_count": 64,
   "id": "e7f37fbc",
   "metadata": {},
   "outputs": [
    {
     "name": "stdout",
     "output_type": "stream",
     "text": [
      "[*********************100%***********************]  1 of 1 completed\n"
     ]
    }
   ],
   "source": [
    "# Exporting XRP/USD ($) data for 1 year, 28 March 2022 - 29 March 2023\n",
    "\n",
    "initial_data = yf.download(\"XRP-USD\", start=\"2022-03-28\", end=\"2023-03-29\")"
   ]
  },
  {
   "cell_type": "code",
   "execution_count": 65,
   "id": "7cba4d6f",
   "metadata": {},
   "outputs": [
    {
     "data": {
      "text/html": [
       "<div>\n",
       "<style scoped>\n",
       "    .dataframe tbody tr th:only-of-type {\n",
       "        vertical-align: middle;\n",
       "    }\n",
       "\n",
       "    .dataframe tbody tr th {\n",
       "        vertical-align: top;\n",
       "    }\n",
       "\n",
       "    .dataframe thead th {\n",
       "        text-align: right;\n",
       "    }\n",
       "</style>\n",
       "<table border=\"1\" class=\"dataframe\">\n",
       "  <thead>\n",
       "    <tr style=\"text-align: right;\">\n",
       "      <th></th>\n",
       "      <th>Open</th>\n",
       "      <th>High</th>\n",
       "      <th>Low</th>\n",
       "      <th>Close</th>\n",
       "      <th>Adj Close</th>\n",
       "      <th>Volume</th>\n",
       "    </tr>\n",
       "    <tr>\n",
       "      <th>Date</th>\n",
       "      <th></th>\n",
       "      <th></th>\n",
       "      <th></th>\n",
       "      <th></th>\n",
       "      <th></th>\n",
       "      <th></th>\n",
       "    </tr>\n",
       "  </thead>\n",
       "  <tbody>\n",
       "    <tr>\n",
       "      <th>2022-03-28</th>\n",
       "      <td>0.857408</td>\n",
       "      <td>0.908086</td>\n",
       "      <td>0.855211</td>\n",
       "      <td>0.863304</td>\n",
       "      <td>0.863304</td>\n",
       "      <td>3205464277</td>\n",
       "    </tr>\n",
       "    <tr>\n",
       "      <th>2022-03-29</th>\n",
       "      <td>0.863089</td>\n",
       "      <td>0.884441</td>\n",
       "      <td>0.848861</td>\n",
       "      <td>0.858000</td>\n",
       "      <td>0.858000</td>\n",
       "      <td>2120020042</td>\n",
       "    </tr>\n",
       "    <tr>\n",
       "      <th>2022-03-30</th>\n",
       "      <td>0.857942</td>\n",
       "      <td>0.871279</td>\n",
       "      <td>0.849425</td>\n",
       "      <td>0.860814</td>\n",
       "      <td>0.860814</td>\n",
       "      <td>1832671641</td>\n",
       "    </tr>\n",
       "    <tr>\n",
       "      <th>2022-03-31</th>\n",
       "      <td>0.860880</td>\n",
       "      <td>0.870866</td>\n",
       "      <td>0.803881</td>\n",
       "      <td>0.814564</td>\n",
       "      <td>0.814564</td>\n",
       "      <td>2611691934</td>\n",
       "    </tr>\n",
       "    <tr>\n",
       "      <th>2022-04-01</th>\n",
       "      <td>0.814709</td>\n",
       "      <td>0.833678</td>\n",
       "      <td>0.810256</td>\n",
       "      <td>0.827740</td>\n",
       "      <td>0.827740</td>\n",
       "      <td>2091887103</td>\n",
       "    </tr>\n",
       "  </tbody>\n",
       "</table>\n",
       "</div>"
      ],
      "text/plain": [
       "                Open      High       Low     Close  Adj Close      Volume\n",
       "Date                                                                     \n",
       "2022-03-28  0.857408  0.908086  0.855211  0.863304   0.863304  3205464277\n",
       "2022-03-29  0.863089  0.884441  0.848861  0.858000   0.858000  2120020042\n",
       "2022-03-30  0.857942  0.871279  0.849425  0.860814   0.860814  1832671641\n",
       "2022-03-31  0.860880  0.870866  0.803881  0.814564   0.814564  2611691934\n",
       "2022-04-01  0.814709  0.833678  0.810256  0.827740   0.827740  2091887103"
      ]
     },
     "execution_count": 65,
     "metadata": {},
     "output_type": "execute_result"
    }
   ],
   "source": [
    "# Returns the first few rows of the head of the XRP Price ($)\n",
    "\n",
    "initial_data.head()"
   ]
  },
  {
   "cell_type": "code",
   "execution_count": 66,
   "id": "17391558",
   "metadata": {},
   "outputs": [
    {
     "data": {
      "text/html": [
       "<div>\n",
       "<style scoped>\n",
       "    .dataframe tbody tr th:only-of-type {\n",
       "        vertical-align: middle;\n",
       "    }\n",
       "\n",
       "    .dataframe tbody tr th {\n",
       "        vertical-align: top;\n",
       "    }\n",
       "\n",
       "    .dataframe thead th {\n",
       "        text-align: right;\n",
       "    }\n",
       "</style>\n",
       "<table border=\"1\" class=\"dataframe\">\n",
       "  <thead>\n",
       "    <tr style=\"text-align: right;\">\n",
       "      <th></th>\n",
       "      <th>Open</th>\n",
       "      <th>High</th>\n",
       "      <th>Low</th>\n",
       "      <th>Close</th>\n",
       "      <th>Adj Close</th>\n",
       "      <th>Volume</th>\n",
       "    </tr>\n",
       "    <tr>\n",
       "      <th>Date</th>\n",
       "      <th></th>\n",
       "      <th></th>\n",
       "      <th></th>\n",
       "      <th></th>\n",
       "      <th></th>\n",
       "      <th></th>\n",
       "    </tr>\n",
       "  </thead>\n",
       "  <tbody>\n",
       "    <tr>\n",
       "      <th>2023-03-24</th>\n",
       "      <td>0.444856</td>\n",
       "      <td>0.444874</td>\n",
       "      <td>0.418034</td>\n",
       "      <td>0.425902</td>\n",
       "      <td>0.425902</td>\n",
       "      <td>1314887049</td>\n",
       "    </tr>\n",
       "    <tr>\n",
       "      <th>2023-03-25</th>\n",
       "      <td>0.425911</td>\n",
       "      <td>0.463645</td>\n",
       "      <td>0.424218</td>\n",
       "      <td>0.444716</td>\n",
       "      <td>0.444716</td>\n",
       "      <td>1832767576</td>\n",
       "    </tr>\n",
       "    <tr>\n",
       "      <th>2023-03-26</th>\n",
       "      <td>0.444675</td>\n",
       "      <td>0.462962</td>\n",
       "      <td>0.442772</td>\n",
       "      <td>0.448817</td>\n",
       "      <td>0.448817</td>\n",
       "      <td>1090501588</td>\n",
       "    </tr>\n",
       "    <tr>\n",
       "      <th>2023-03-27</th>\n",
       "      <td>0.448841</td>\n",
       "      <td>0.487613</td>\n",
       "      <td>0.443896</td>\n",
       "      <td>0.479991</td>\n",
       "      <td>0.479991</td>\n",
       "      <td>2730255979</td>\n",
       "    </tr>\n",
       "    <tr>\n",
       "      <th>2023-03-28</th>\n",
       "      <td>0.480074</td>\n",
       "      <td>0.529756</td>\n",
       "      <td>0.470201</td>\n",
       "      <td>0.515058</td>\n",
       "      <td>0.515058</td>\n",
       "      <td>3163217119</td>\n",
       "    </tr>\n",
       "  </tbody>\n",
       "</table>\n",
       "</div>"
      ],
      "text/plain": [
       "                Open      High       Low     Close  Adj Close      Volume\n",
       "Date                                                                     \n",
       "2023-03-24  0.444856  0.444874  0.418034  0.425902   0.425902  1314887049\n",
       "2023-03-25  0.425911  0.463645  0.424218  0.444716   0.444716  1832767576\n",
       "2023-03-26  0.444675  0.462962  0.442772  0.448817   0.448817  1090501588\n",
       "2023-03-27  0.448841  0.487613  0.443896  0.479991   0.479991  2730255979\n",
       "2023-03-28  0.480074  0.529756  0.470201  0.515058   0.515058  3163217119"
      ]
     },
     "execution_count": 66,
     "metadata": {},
     "output_type": "execute_result"
    }
   ],
   "source": [
    "# Returns the last few rows of the tail of the XRP Price ($)\n",
    "\n",
    "initial_data.tail()"
   ]
  },
  {
   "cell_type": "code",
   "execution_count": 67,
   "id": "bbfb8f77",
   "metadata": {},
   "outputs": [
    {
     "data": {
      "text/plain": [
       "Date\n",
       "2022-03-28    0.863304\n",
       "2022-03-29    0.858000\n",
       "2022-03-30    0.860814\n",
       "2022-03-31    0.814564\n",
       "2022-04-01    0.827740\n",
       "Name: Adj Close, dtype: float64"
      ]
     },
     "execution_count": 67,
     "metadata": {},
     "output_type": "execute_result"
    }
   ],
   "source": [
    "initial_data['Adj Close'].head()"
   ]
  },
  {
   "cell_type": "code",
   "execution_count": 68,
   "id": "65203362",
   "metadata": {},
   "outputs": [
    {
     "data": {
      "text/plain": [
       "Date\n",
       "2023-03-24    0.425902\n",
       "2023-03-25    0.444716\n",
       "2023-03-26    0.448817\n",
       "2023-03-27    0.479991\n",
       "2023-03-28    0.515058\n",
       "Name: Adj Close, dtype: float64"
      ]
     },
     "execution_count": 68,
     "metadata": {},
     "output_type": "execute_result"
    }
   ],
   "source": [
    "initial_data['Adj Close'].tail()"
   ]
  },
  {
   "cell_type": "markdown",
   "id": "069e90fe",
   "metadata": {},
   "source": [
    "### Visualisation of the Closing price movement (Line Graph) of XRP-USD ($)"
   ]
  },
  {
   "cell_type": "code",
   "execution_count": 69,
   "id": "8c09470f",
   "metadata": {},
   "outputs": [
    {
     "data": {
      "image/png": "[encoded data removed]",
      "text/plain": [
       "<Figure size 1000x400 with 1 Axes>"
      ]
     },
     "metadata": {},
     "output_type": "display_data"
    }
   ],
   "source": [
    "plt.figure(figsize=(10,4))\n",
    "plt.plot(initial_data.index, initial_data['Close'])\n",
    "plt.title('XRP/USD Adjust Closing Price Movement (28 March 2022 - 28 March 2023)')\n",
    "plt.xlabel('Date')\n",
    "plt.ylabel('Price')\n",
    "plt.grid()\n",
    "plt.show()"
   ]
  },
  {
   "cell_type": "code",
   "execution_count": 70,
   "id": "462ca18e",
   "metadata": {
    "scrolled": true
   },
   "outputs": [
    {
     "data": {
      "text/html": [
       "<div>\n",
       "<style scoped>\n",
       "    .dataframe tbody tr th:only-of-type {\n",
       "        vertical-align: middle;\n",
       "    }\n",
       "\n",
       "    .dataframe tbody tr th {\n",
       "        vertical-align: top;\n",
       "    }\n",
       "\n",
       "    .dataframe thead th {\n",
       "        text-align: right;\n",
       "    }\n",
       "</style>\n",
       "<table border=\"1\" class=\"dataframe\">\n",
       "  <thead>\n",
       "    <tr style=\"text-align: right;\">\n",
       "      <th></th>\n",
       "      <th>Open</th>\n",
       "      <th>High</th>\n",
       "      <th>Low</th>\n",
       "      <th>Close</th>\n",
       "      <th>Adj Close</th>\n",
       "      <th>Volume</th>\n",
       "    </tr>\n",
       "  </thead>\n",
       "  <tbody>\n",
       "    <tr>\n",
       "      <th>count</th>\n",
       "      <td>366.000000</td>\n",
       "      <td>366.000000</td>\n",
       "      <td>366.000000</td>\n",
       "      <td>366.000000</td>\n",
       "      <td>366.000000</td>\n",
       "      <td>3.660000e+02</td>\n",
       "    </tr>\n",
       "    <tr>\n",
       "      <th>mean</th>\n",
       "      <td>0.428431</td>\n",
       "      <td>0.438965</td>\n",
       "      <td>0.415909</td>\n",
       "      <td>0.427498</td>\n",
       "      <td>0.427498</td>\n",
       "      <td>1.422718e+09</td>\n",
       "    </tr>\n",
       "    <tr>\n",
       "      <th>std</th>\n",
       "      <td>0.121363</td>\n",
       "      <td>0.123610</td>\n",
       "      <td>0.117954</td>\n",
       "      <td>0.119359</td>\n",
       "      <td>0.119359</td>\n",
       "      <td>8.548565e+08</td>\n",
       "    </tr>\n",
       "    <tr>\n",
       "      <th>min</th>\n",
       "      <td>0.308033</td>\n",
       "      <td>0.317014</td>\n",
       "      <td>0.290579</td>\n",
       "      <td>0.308090</td>\n",
       "      <td>0.308090</td>\n",
       "      <td>2.253910e+08</td>\n",
       "    </tr>\n",
       "    <tr>\n",
       "      <th>25%</th>\n",
       "      <td>0.358920</td>\n",
       "      <td>0.368778</td>\n",
       "      <td>0.348242</td>\n",
       "      <td>0.358904</td>\n",
       "      <td>0.358904</td>\n",
       "      <td>9.129785e+08</td>\n",
       "    </tr>\n",
       "    <tr>\n",
       "      <th>50%</th>\n",
       "      <td>0.386655</td>\n",
       "      <td>0.396137</td>\n",
       "      <td>0.377535</td>\n",
       "      <td>0.386637</td>\n",
       "      <td>0.386637</td>\n",
       "      <td>1.203421e+09</td>\n",
       "    </tr>\n",
       "    <tr>\n",
       "      <th>75%</th>\n",
       "      <td>0.448861</td>\n",
       "      <td>0.465911</td>\n",
       "      <td>0.427451</td>\n",
       "      <td>0.448842</td>\n",
       "      <td>0.448842</td>\n",
       "      <td>1.664528e+09</td>\n",
       "    </tr>\n",
       "    <tr>\n",
       "      <th>max</th>\n",
       "      <td>0.863089</td>\n",
       "      <td>0.908086</td>\n",
       "      <td>0.855211</td>\n",
       "      <td>0.863304</td>\n",
       "      <td>0.863304</td>\n",
       "      <td>7.798771e+09</td>\n",
       "    </tr>\n",
       "  </tbody>\n",
       "</table>\n",
       "</div>"
      ],
      "text/plain": [
       "             Open        High         Low       Close   Adj Close  \\\n",
       "count  366.000000  366.000000  366.000000  366.000000  366.000000   \n",
       "mean     0.428431    0.438965    0.415909    0.427498    0.427498   \n",
       "std      0.121363    0.123610    0.117954    0.119359    0.119359   \n",
       "min      0.308033    0.317014    0.290579    0.308090    0.308090   \n",
       "25%      0.358920    0.368778    0.348242    0.358904    0.358904   \n",
       "50%      0.386655    0.396137    0.377535    0.386637    0.386637   \n",
       "75%      0.448861    0.465911    0.427451    0.448842    0.448842   \n",
       "max      0.863089    0.908086    0.855211    0.863304    0.863304   \n",
       "\n",
       "             Volume  \n",
       "count  3.660000e+02  \n",
       "mean   1.422718e+09  \n",
       "std    8.548565e+08  \n",
       "min    2.253910e+08  \n",
       "25%    9.129785e+08  \n",
       "50%    1.203421e+09  \n",
       "75%    1.664528e+09  \n",
       "max    7.798771e+09  "
      ]
     },
     "execution_count": 70,
     "metadata": {},
     "output_type": "execute_result"
    }
   ],
   "source": [
    "initial_data.describe()"
   ]
  },
  {
   "cell_type": "markdown",
   "id": "b884a2d6",
   "metadata": {},
   "source": [
    "## TASK 1.2 Annualised Volatility of XRP-USD"
   ]
  },
  {
   "cell_type": "code",
   "execution_count": 71,
   "id": "3b65fe6a",
   "metadata": {},
   "outputs": [],
   "source": [
    "log_return = np.log(initial_data['Adj Close']/initial_data['Adj Close'].shift(1))"
   ]
  },
  {
   "cell_type": "code",
   "execution_count": 73,
   "id": "7e31d758",
   "metadata": {},
   "outputs": [
    {
     "name": "stdout",
     "output_type": "stream",
     "text": [
      "The Annualised Volatility is: 78.01 %\n"
     ]
    }
   ],
   "source": [
    "vol = np.sqrt(365) * log_return [-183: -1].std()\n",
    "print('The Annualised Volatility is:', round(vol*100,2),'%')"
   ]
  },
  {
   "cell_type": "markdown",
   "id": "db607148",
   "metadata": {},
   "source": [
    "## Task 2 Derivatives for XRP/USD"
   ]
  },
  {
   "cell_type": "markdown",
   "id": "7da4a8fb",
   "metadata": {},
   "source": [
    "### CRR Binominal Tree "
   ]
  },
  {
   "cell_type": "code",
   "execution_count": 74,
   "id": "83656ef2",
   "metadata": {},
   "outputs": [],
   "source": [
    "# S = 0.4995      (Spot Asset Price) / XRP/USD price on 28. March 2023\n",
    "# K = 0.550       Strike Price\n",
    "# T = 0.25        Time of Maturity / 3 Month European Call\n",
    "# r = 0.04856     Risk Free Rate (4.856% = 0.04856) / 3 month U.S. Treasury Bill \n",
    "# vol = 0.7801    Annualized Volatility (78.01%) 'Volatility of underlying asset'\n",
    "# N = 5           Number of Periods\n",
    "# payoff = \"put\"  Call or Put"
   ]
  },
  {
   "cell_type": "code",
   "execution_count": 75,
   "id": "1c1e2b85",
   "metadata": {},
   "outputs": [],
   "source": [
    "S0 = 0.4995\n",
    "K = 0.550\n",
    "T = 0.25\n",
    "r = 0.04856\n",
    "vol = 0.7801\n",
    "N = 5\n",
    "payoff = \"put\""
   ]
  },
  {
   "cell_type": "code",
   "execution_count": 76,
   "id": "b03ce52e",
   "metadata": {},
   "outputs": [],
   "source": [
    "dT = float(T) / N               # Delta t\n",
    "u = np.exp(vol * np.sqrt(dT))   # up factor\n",
    "d = 1.0 / u                     # down factor "
   ]
  },
  {
   "cell_type": "code",
   "execution_count": 77,
   "id": "c024c935",
   "metadata": {},
   "outputs": [],
   "source": [
    "S = np.zeros((N + 1, N + 1))\n",
    "S[0, 0] = S0\n",
    "z = 1\n",
    "for t in range(1, N + 1):\n",
    "    for i in range(z):\n",
    "        S[i, t] = S[i, t-1] * u\n",
    "        S[i+1, t] = S[i, t-1] * d\n",
    "    z += 1"
   ]
  },
  {
   "cell_type": "code",
   "execution_count": 78,
   "id": "013088ce",
   "metadata": {},
   "outputs": [
    {
     "data": {
      "text/plain": [
       "array([[0.4995    , 0.59469178, 0.70802466, 0.84295585, 1.00360144,\n",
       "        1.19486192],\n",
       "       [0.        , 0.41954548, 0.4995    , 0.59469178, 0.70802466,\n",
       "        0.84295585],\n",
       "       [0.        , 0.        , 0.35238921, 0.41954548, 0.4995    ,\n",
       "        0.59469178],\n",
       "       [0.        , 0.        , 0.        , 0.29598258, 0.35238921,\n",
       "        0.41954548],\n",
       "       [0.        , 0.        , 0.        , 0.        , 0.24860491,\n",
       "        0.29598258],\n",
       "       [0.        , 0.        , 0.        , 0.        , 0.        ,\n",
       "        0.20881095]])"
      ]
     },
     "execution_count": 78,
     "metadata": {},
     "output_type": "execute_result"
    }
   ],
   "source": [
    "S"
   ]
  },
  {
   "cell_type": "code",
   "execution_count": 79,
   "id": "88549b9b",
   "metadata": {},
   "outputs": [
    {
     "data": {
      "text/plain": [
       "0.46343415559376955"
      ]
     },
     "execution_count": 79,
     "metadata": {},
     "output_type": "execute_result"
    }
   ],
   "source": [
    "a = np.exp(r * dT)    # risk free compound return\n",
    "p = (a - d)/ (u - d)  # risk neutral up probability\n",
    "q = 1.0 - p           # risk neutral down probability\n",
    "p"
   ]
  },
  {
   "cell_type": "code",
   "execution_count": 80,
   "id": "9ea48e4e",
   "metadata": {},
   "outputs": [
    {
     "data": {
      "text/plain": [
       "array([[0.        , 0.        , 0.        , 0.        , 0.        ,\n",
       "        0.        ],\n",
       "       [0.        , 0.        , 0.        , 0.        , 0.        ,\n",
       "        0.        ],\n",
       "       [0.        , 0.        , 0.        , 0.        , 0.        ,\n",
       "        0.        ],\n",
       "       [0.        , 0.        , 0.        , 0.        , 0.        ,\n",
       "        0.13045452],\n",
       "       [0.        , 0.        , 0.        , 0.        , 0.        ,\n",
       "        0.25401742],\n",
       "       [0.        , 0.        , 0.        , 0.        , 0.        ,\n",
       "        0.34118905]])"
      ]
     },
     "execution_count": 80,
     "metadata": {},
     "output_type": "execute_result"
    }
   ],
   "source": [
    "S_T = S[:,-1]\n",
    "V = np.zeros((N + 1, N + 1))\n",
    "if payoff ==\"call\":\n",
    "    V[:,-1] = np.maximum(S_T-K, 0.0)\n",
    "elif payoff ==\"put\":\n",
    "    V[:,-1] = np.maximum(K-S_T, 0.0)\n",
    "V"
   ]
  },
  {
   "cell_type": "markdown",
   "id": "cb7a76b5",
   "metadata": {},
   "source": [
    "#### European Option "
   ]
  },
  {
   "cell_type": "code",
   "execution_count": 81,
   "id": "2f88cadb",
   "metadata": {},
   "outputs": [
    {
     "data": {
      "text/plain": [
       "array([[0.10595005, 0.05784783, 0.02000621, 0.        , 0.        ,\n",
       "        0.        ],\n",
       "       [0.        , 0.14797615, 0.09079387, 0.03737629, 0.        ,\n",
       "        0.        ],\n",
       "       [0.        , 0.        , 0.19803514, 0.13734221, 0.06982769,\n",
       "        0.        ],\n",
       "       [0.        , 0.        , 0.        , 0.25135309, 0.19627701,\n",
       "        0.13045452],\n",
       "       [0.        , 0.        , 0.        , 0.        , 0.30006131,\n",
       "        0.25401742],\n",
       "       [0.        , 0.        , 0.        , 0.        , 0.        ,\n",
       "        0.34118905]])"
      ]
     },
     "execution_count": 81,
     "metadata": {},
     "output_type": "execute_result"
    }
   ],
   "source": [
    "# European Put Option for XRP/USD\n",
    "for j in range(N-1, -1, -1):\n",
    "    for i in range(j+1):\n",
    "        V[i,j] = np.exp(-r*dT) * (p * V[i,j + 1] + q * V[i + 1,j + 1])\n",
    "V"
   ]
  },
  {
   "cell_type": "code",
   "execution_count": 90,
   "id": "9675670f",
   "metadata": {},
   "outputs": [
    {
     "name": "stdout",
     "output_type": "stream",
     "text": [
      "The European Put Option for XRP/USD is: 0.10595004764352735\n"
     ]
    }
   ],
   "source": [
    "print('The European Put Option for XRP/USD is:', str(V[0,0]))"
   ]
  },
  {
   "cell_type": "markdown",
   "id": "77af4853",
   "metadata": {},
   "source": [
    "### Monte Carlo Simulation"
   ]
  },
  {
   "cell_type": "code",
   "execution_count": 21,
   "id": "2730d718",
   "metadata": {},
   "outputs": [],
   "source": [
    "def mcs_simulation_np(p):\n",
    "    M = p\n",
    "    I = p\n",
    "    dt = T / M \n",
    "    S = np.zeros((M + 1, I))\n",
    "    S[0] = S0 \n",
    "    rn = np.random.standard_normal(S.shape) \n",
    "    for t in range(1, M + 1): \n",
    "        S[t] = S[t-1] * np.exp((r - sigma ** 2 / 2) * dt + sigma * np.sqrt(dt) * rn[t]) \n",
    "    return S"
   ]
  },
  {
   "cell_type": "code",
   "execution_count": 22,
   "id": "c3f11990",
   "metadata": {},
   "outputs": [],
   "source": [
    "T = 0.25 \n",
    "r = 0.04856\n",
    "sigma = 0.7801\n",
    "S0 = 0.4995\n",
    "K = 0.550 "
   ]
  },
  {
   "cell_type": "code",
   "execution_count": 23,
   "id": "43f6665f",
   "metadata": {},
   "outputs": [],
   "source": [
    "S = mcs_simulation_np(10000)"
   ]
  },
  {
   "cell_type": "code",
   "execution_count": 24,
   "id": "2472faef",
   "metadata": {},
   "outputs": [
    {
     "data": {
      "text/plain": [
       "array([[0.4995    , 0.49722801, 0.4980727 , ..., 0.50190895, 0.50106447,\n",
       "        0.4999616 ],\n",
       "       [0.4995    , 0.49714971, 0.49675232, ..., 0.39408506, 0.39336921,\n",
       "        0.39392563],\n",
       "       [0.4995    , 0.49622377, 0.49842721, ..., 0.65882417, 0.65906815,\n",
       "        0.65505213],\n",
       "       ...,\n",
       "       [0.4995    , 0.49954074, 0.49856406, ..., 0.50194361, 0.50306159,\n",
       "        0.50672982],\n",
       "       [0.4995    , 0.49807132, 0.49596534, ..., 0.423318  , 0.4238577 ,\n",
       "        0.42489735],\n",
       "       [0.4995    , 0.49878505, 0.49776909, ..., 0.46993053, 0.47133294,\n",
       "        0.47372048]])"
      ]
     },
     "execution_count": 24,
     "metadata": {},
     "output_type": "execute_result"
    }
   ],
   "source": [
    "S = np.transpose(S)\n",
    "S"
   ]
  },
  {
   "cell_type": "code",
   "execution_count": 25,
   "id": "20bc38af",
   "metadata": {},
   "outputs": [
    {
     "data": {
      "text/plain": [
       "Text(0.5, 1.0, 'Frequency distribution of the simulated end-of-period values')"
      ]
     },
     "execution_count": 25,
     "metadata": {},
     "output_type": "execute_result"
    },
    {
     "data": {
      "image/png": "[encoded data removed]",
      "text/plain": [
       "<Figure size 640x480 with 1 Axes>"
      ]
     },
     "metadata": {},
     "output_type": "display_data"
    }
   ],
   "source": [
    "import matplotlib.pyplot as plt\n",
    "n, bins, patches = plt.hist(x=S[:,-1], bins='auto', color='#b666d2',alpha=0.7, rwidth=0.85)\n",
    "\n",
    "plt.grid(axis='y', alpha=0.75)\n",
    "plt.xlabel('S_T')\n",
    "plt.ylabel('Frequency')\n",
    "plt.title('Frequency distribution of the simulated end-of-period values')"
   ]
  },
  {
   "cell_type": "code",
   "execution_count": 26,
   "id": "3332a016",
   "metadata": {},
   "outputs": [
    {
     "name": "stdout",
     "output_type": "stream",
     "text": [
      "The European Put Option is: $ 0.104\n"
     ]
    }
   ],
   "source": [
    "p = np.mean(np.maximum(K - S[:,-1],0))\n",
    "print('The European Put Option is:' + ' $', str(p.round(4)))"
   ]
  },
  {
   "cell_type": "markdown",
   "id": "3c63fae7",
   "metadata": {},
   "source": [
    "## TASK 3 GREEKS"
   ]
  },
  {
   "cell_type": "markdown",
   "id": "2364efac",
   "metadata": {},
   "source": [
    "### 1 - DELTA, ∆, Unit: Dollar $\n",
    "\n",
    "##### Delta, ∆, measures the rate of change of the theoretical option value with respect to changes in the underlying asset's price. Delta is the first derivative of the value V of the option with respect to the underlying instrument's price S."
   ]
  },
  {
   "cell_type": "code",
   "execution_count": 27,
   "id": "292d3dec",
   "metadata": {},
   "outputs": [],
   "source": [
    "def delta(S, K, T, r, q, vol, payoff):\n",
    "    \n",
    "    d1 = (np.log(S / K) + (r - q + 0.5 * vol ** 2) * T) / (vol * np.sqrt(T))\n",
    "    if payoff == \"call\":\n",
    "        delta = np.exp(-q * T) * si.norm.cdf(d1, 0.0, 1.0)\n",
    "    elif payoff == \"put\":\n",
    "        delta =  - np.exp(-q * T) * si.norm.cdf(-d1, 0.0, 1.0)\n",
    "    \n",
    "    return delta"
   ]
  },
  {
   "cell_type": "code",
   "execution_count": 108,
   "id": "0ce5e387",
   "metadata": {},
   "outputs": [
    {
     "data": {
      "text/plain": [
       "-0.37113868142668816"
      ]
     },
     "execution_count": 108,
     "metadata": {},
     "output_type": "execute_result"
    }
   ],
   "source": [
    "delta(0.4995, 0.5500, 1, 0.04856, 0, 0.7801, 'put')"
   ]
  },
  {
   "cell_type": "code",
   "execution_count": 109,
   "id": "158a448a",
   "metadata": {},
   "outputs": [
    {
     "data": {
      "text/plain": [
       "0.6288613185733118"
      ]
     },
     "execution_count": 109,
     "metadata": {},
     "output_type": "execute_result"
    }
   ],
   "source": [
    "delta(0.4995, 0.5500, 1, 0.04856, 0, 0.7801, 'call')"
   ]
  },
  {
   "cell_type": "code",
   "execution_count": 105,
   "id": "96e1cb03",
   "metadata": {},
   "outputs": [],
   "source": [
    "S = np.linspace(0.200,1,11)\n",
    "Delta_Call = np.zeros((len(S),1))\n",
    "Delta_Put = np.zeros((len(S),1))\n",
    "for i in range(len(S)):\n",
    "    Delta_Put [i] = delta(S[i], 0.5500, 1, 0.04856, 0, 0.7801, 'put')\n",
    "    Delta_Call [i] = delta(S[i], 0.5500, 1, 0.04856, 0, 0.7801, 'call')"
   ]
  },
  {
   "cell_type": "code",
   "execution_count": 106,
   "id": "4676cee5",
   "metadata": {},
   "outputs": [
    {
     "data": {
      "text/plain": [
       "<matplotlib.legend.Legend at 0x7f8ee81771c0>"
      ]
     },
     "execution_count": 106,
     "metadata": {},
     "output_type": "execute_result"
    },
    {
     "data": {
      "image/png": "[encoded data removed]",
      "text/plain": [
       "<Figure size 640x480 with 1 Axes>"
      ]
     },
     "metadata": {},
     "output_type": "display_data"
    }
   ],
   "source": [
    "fig = plt.figure()\n",
    "plt.plot(S, Delta_Call, '-')\n",
    "plt.plot(S, Delta_Put, '--')\n",
    "plt.grid()\n",
    "plt.xlabel('Crypto Price')\n",
    "plt.ylabel('Delta')\n",
    "plt.title('Delta')\n",
    "plt.legend(['Delta for Call','Delta for Put'])"
   ]
  },
  {
   "cell_type": "code",
   "execution_count": 107,
   "id": "d730ea96",
   "metadata": {},
   "outputs": [
    {
     "name": "stdout",
     "output_type": "stream",
     "text": [
      "Value of Delta is -0.3711 . If XRP increase by 1 dollar, then the value of the option will decrease $ -0.3711\n"
     ]
    }
   ],
   "source": [
    "d = delta(0.4995, 0.5500, 1, 0.04856, 0, 0.7801, 'put')\n",
    "print('Value of Delta is', d.round(4),'.','If XRP increase by 1 dollar, then the value of the option will decrease $', d.round(4))\n"
   ]
  },
  {
   "cell_type": "markdown",
   "id": "5b9317ff",
   "metadata": {},
   "source": [
    "### 2 - GAMMA, Γ, Unit: No-Unit\n",
    "\n",
    "##### Gamma, Γ, measures the rate of change in the delta with respect to changes in the underlying price. Gamma is the second derivative of the value function with respect to the underlying price."
   ]
  },
  {
   "cell_type": "code",
   "execution_count": 95,
   "id": "29a0c05e",
   "metadata": {},
   "outputs": [],
   "source": [
    "def gamma(S, K, T, r, q, vol, payoff):\n",
    "    \n",
    "    d1 = (np.log(S / K) + (r - q + 0.5 * vol ** 2) * T) / (vol * np.sqrt(T))\n",
    "    gamma = np.exp(- q * T) * si.norm.pdf(d1, 0.0, 1.0) / (vol * S * np.sqrt(T))\n",
    "    \n",
    "    return gamma"
   ]
  },
  {
   "cell_type": "code",
   "execution_count": 101,
   "id": "e5a43b5a",
   "metadata": {},
   "outputs": [
    {
     "data": {
      "text/plain": [
       "0.96993594793662"
      ]
     },
     "execution_count": 101,
     "metadata": {},
     "output_type": "execute_result"
    }
   ],
   "source": [
    "gamma(0.4995, 0.5500, 1, 0.04856, 0, 0.7801, 'put')"
   ]
  },
  {
   "cell_type": "code",
   "execution_count": 102,
   "id": "35cc72dc",
   "metadata": {},
   "outputs": [
    {
     "data": {
      "text/plain": [
       "0.96993594793662"
      ]
     },
     "execution_count": 102,
     "metadata": {},
     "output_type": "execute_result"
    }
   ],
   "source": [
    "gamma(0.4995, 0.5500, 1, 0.04856, 0, 0.7801, 'call')"
   ]
  },
  {
   "cell_type": "code",
   "execution_count": 112,
   "id": "58d6c7b9",
   "metadata": {},
   "outputs": [],
   "source": [
    "S = np.linspace(0.200,1,11)\n",
    "gamma_values = np.zeros((len(S),1))\n",
    "for i in range(len(S)):\n",
    "    gamma_values [i] = gamma(S[i], 0.5500, 1, 0.04856, 0, 0.7801, 'put')"
   ]
  },
  {
   "cell_type": "code",
   "execution_count": 121,
   "id": "88acb6c6",
   "metadata": {
    "scrolled": false
   },
   "outputs": [
    {
     "data": {
      "text/plain": [
       "<matplotlib.legend.Legend at 0x7f8ee861f4f0>"
      ]
     },
     "execution_count": 121,
     "metadata": {},
     "output_type": "execute_result"
    },
    {
     "data": {
      "image/png": "[encoded data removed]",
      "text/plain": [
       "<Figure size 640x480 with 1 Axes>"
      ]
     },
     "metadata": {},
     "output_type": "display_data"
    }
   ],
   "source": [
    "fig = plt.figure()\n",
    "plt.plot(S, gamma_values, '-')\n",
    "plt.grid()\n",
    "plt.xlabel('XRP-USD Price')\n",
    "plt.ylabel('Gamma')\n",
    "plt.title('Gamma')\n",
    "plt.legend(['Gamma for Put and Call'])"
   ]
  },
  {
   "cell_type": "code",
   "execution_count": 119,
   "id": "a9909507",
   "metadata": {},
   "outputs": [
    {
     "name": "stdout",
     "output_type": "stream",
     "text": [
      "Gamma for the put option is 0.9699 . Meaning if XRP increase by 1 dollar, the value of the delta will change by 0.9699\n"
     ]
    }
   ],
   "source": [
    "put_gamma = gamma(0.4995, 0.5500, 1, 0.04856, 0, 0.7801, 'put')\n",
    "print('Gamma for the put option is', put_gamma.round(4),'.','Meaning if XRP increase by 1 dollar, the value of the delta will change by', put_gamma.round(4))"
   ]
  },
  {
   "cell_type": "markdown",
   "id": "d9f7cd98",
   "metadata": {},
   "source": [
    "### 3 - SPEED, Unit: No-Unit\n",
    "\n",
    "##### Speed measures the rate of change in Gamma with respect to changes in the underlying price."
   ]
  },
  {
   "cell_type": "code",
   "execution_count": 39,
   "id": "8f78a42e",
   "metadata": {},
   "outputs": [],
   "source": [
    "def speed(S, K, T, r, q, vol, payoff):\n",
    "    \n",
    "    d1 = (np.log(S / K) + (r - q + 0.5 * vol ** 2) * T) / (vol * np.sqrt(T))\n",
    "    speed = - np.exp(-q * T) * si.norm.pdf(d1, 0.0, 1.0) / ((vol **2) * (S**2) * np.sqrt(T)) * (d1 + vol * np.sqrt(T))\n",
    "    \n",
    "    return speed"
   ]
  },
  {
   "cell_type": "code",
   "execution_count": 40,
   "id": "e73a18da",
   "metadata": {},
   "outputs": [
    {
     "data": {
      "text/plain": [
       "-2.7603550896931193"
      ]
     },
     "execution_count": 40,
     "metadata": {},
     "output_type": "execute_result"
    }
   ],
   "source": [
    "speed(0.4995, 0.5500, 1, 0.04856, 0, 0.7801, 'put')"
   ]
  },
  {
   "cell_type": "code",
   "execution_count": 41,
   "id": "a982364b",
   "metadata": {},
   "outputs": [
    {
     "data": {
      "text/plain": [
       "-2.7603550896931193"
      ]
     },
     "execution_count": 41,
     "metadata": {},
     "output_type": "execute_result"
    }
   ],
   "source": [
    "speed(0.4995, 0.5500, 1, 0.04856, 0, 0.7801, 'call')"
   ]
  },
  {
   "cell_type": "code",
   "execution_count": 42,
   "id": "c06910fd",
   "metadata": {},
   "outputs": [],
   "source": [
    "S = np.linspace(0.200,1,11)\n",
    "Speed = np.zeros((len(S),1))\n",
    "for i in range(len(S)):\n",
    "    Speed [i] = speed(S[i], 0.5500, 1, 0.04856, 0, 0.7801, 'put')"
   ]
  },
  {
   "cell_type": "code",
   "execution_count": 120,
   "id": "530a7272",
   "metadata": {},
   "outputs": [
    {
     "data": {
      "text/plain": [
       "<matplotlib.legend.Legend at 0x7f8ee8583cd0>"
      ]
     },
     "execution_count": 120,
     "metadata": {},
     "output_type": "execute_result"
    },
    {
     "data": {
      "image/png": "[encoded data removed]",
      "text/plain": [
       "<Figure size 640x480 with 1 Axes>"
      ]
     },
     "metadata": {},
     "output_type": "display_data"
    }
   ],
   "source": [
    "fig = plt.figure()\n",
    "plt.plot(S, Speed, '-')\n",
    "plt.grid()\n",
    "plt.xlabel('XRP - USD Price')\n",
    "plt.ylabel('Speed')\n",
    "plt.title('Speed')\n",
    "plt.legend(['Speed for Put and Call'])"
   ]
  },
  {
   "cell_type": "markdown",
   "id": "01e4c1e9",
   "metadata": {},
   "source": [
    "### 4 - THETA, 𝜃, Unit: Dollar $\n",
    "\n",
    "##### Theta, 𝜃, measures the sensitivity of the value of the derivative to the passage of time (see Option time value): the \"time decay\"."
   ]
  },
  {
   "cell_type": "code",
   "execution_count": 44,
   "id": "d968b651",
   "metadata": {},
   "outputs": [],
   "source": [
    "def theta(S, K, T, r, q, vol, payoff):\n",
    "    \n",
    "    d1 = (np.log(S / K) + (r - q + 0.5 * vol ** 2) * T) / (vol * np.sqrt(T))\n",
    "    d2 = (np.log(S / K) + (r - q - 0.5 * vol ** 2) * T) / (vol * np.sqrt(T))\n",
    "    if payoff == \"call\":\n",
    "        theta = vol * S * np.exp(-q * T) * si.norm.pdf(d1, 0.0, 1.0) / (2 * np.sqrt(T)) - q * S * np.exp(-q * T) * si.norm.cdf(d1, 0.0, 1.0) + r * K * np.exp(-r * T) * si.norm.cdf(d2, 0.0, 1.0)\n",
    "    elif payoff == \"put\":\n",
    "        theta = vol * S * np.exp(-q * T) * si.norm.pdf(-d1, 0.0, 1.0) / (2 * np.sqrt(T)) - q * S * np.exp(-q * T) * si.norm.cdf(-d1, 0.0, 1.0) + r * K * np.exp(-r * T) * si.norm.cdf(-d2, 0.0, 1.0)\n",
    "    \n",
    "    return theta"
   ]
  },
  {
   "cell_type": "code",
   "execution_count": 45,
   "id": "36e27220",
   "metadata": {},
   "outputs": [
    {
     "data": {
      "text/plain": [
       "0.09078551678276772"
      ]
     },
     "execution_count": 45,
     "metadata": {},
     "output_type": "execute_result"
    }
   ],
   "source": [
    "theta(0.4995, 0.5500, 1, 0.04856, 0, 0.7801, 'put')"
   ]
  },
  {
   "cell_type": "code",
   "execution_count": 46,
   "id": "364e7adb",
   "metadata": {},
   "outputs": [
    {
     "data": {
      "text/plain": [
       "0.08192663386471793"
      ]
     },
     "execution_count": 46,
     "metadata": {},
     "output_type": "execute_result"
    }
   ],
   "source": [
    "theta(0.4995, 0.5500, 1, 0.04856, 0, 0.7801, 'call')"
   ]
  },
  {
   "cell_type": "code",
   "execution_count": 47,
   "id": "fb9ede3a",
   "metadata": {},
   "outputs": [],
   "source": [
    "T = np.linspace(0.200,1,11)\n",
    "Theta_Call = np.zeros((len(T),1))\n",
    "Theta_Put = np.zeros((len(T),1))\n",
    "for i in range(len(T)):\n",
    "    Theta_Call [i] = theta(0.4995, 0.5500, T[i], 0.04856, 0, 0.7801, 'call')\n",
    "    Theta_Put [i] = theta(0.4995, 0.5500, T[i], 0.04856, 0, 0.7801, 'put')\n",
    "    "
   ]
  },
  {
   "cell_type": "code",
   "execution_count": 48,
   "id": "dabc5d1a",
   "metadata": {},
   "outputs": [
    {
     "data": {
      "text/plain": [
       "<matplotlib.legend.Legend at 0x7f8ee6c0c6a0>"
      ]
     },
     "execution_count": 48,
     "metadata": {},
     "output_type": "execute_result"
    },
    {
     "data": {
      "image/png": "[encoded data removed]",
      "text/plain": [
       "<Figure size 640x480 with 1 Axes>"
      ]
     },
     "metadata": {},
     "output_type": "display_data"
    }
   ],
   "source": [
    "fig = plt.figure()\n",
    "plt.plot(T, Theta_Call, '-')\n",
    "plt.plot(T, Theta_Put, '-')\n",
    "plt.grid()\n",
    "plt.xlabel('XRP/USD - Time to Expiry')\n",
    "plt.ylabel('Theta')\n",
    "plt.title('Theta')\n",
    "plt.legend(['Theta for Call', 'Theta for Put'])"
   ]
  },
  {
   "cell_type": "markdown",
   "id": "4d55e07e",
   "metadata": {},
   "source": [
    "### 5 - RHO,  𝜌, Unit: Dollar $\n",
    "\n",
    "##### Rho, 𝜌, measures sensitivity to the interest rate: it is the derivative of the option value with respect to the risk free interest rate (for the relevant outstanding term)."
   ]
  },
  {
   "cell_type": "code",
   "execution_count": 49,
   "id": "680b9845",
   "metadata": {},
   "outputs": [],
   "source": [
    "def rho(S, K, T, r, q, vol, payoff):\n",
    "    \n",
    "    d1 = (np.log(S / K) + (r - q + 0.5 * vol ** 2) * T) / (vol * np.sqrt(T))\n",
    "    d2 = (np.log(S / K) + (r - q - 0.5 * vol ** 2) * T) / (vol * np.sqrt(T))\n",
    "    if payoff == \"call\":\n",
    "        rho =  K * T * np.exp(-r * T) * si.norm.cdf(d2, 0.0, 1.0)\n",
    "    elif payoff == \"put\":\n",
    "        rho = - K * T * np.exp(-r * T) * si.norm.cdf(-d2, 0.0, 1.0)\n",
    "    \n",
    "    return rho"
   ]
  },
  {
   "cell_type": "code",
   "execution_count": 50,
   "id": "76a3b0b9",
   "metadata": {},
   "outputs": [
    {
     "data": {
      "text/plain": [
       "0.17074920440274802"
      ]
     },
     "execution_count": 50,
     "metadata": {},
     "output_type": "execute_result"
    }
   ],
   "source": [
    "rho(0.4995, 0.5500, 1, 0.04856, 0, 0.7801, 'call')"
   ]
  },
  {
   "cell_type": "code",
   "execution_count": 51,
   "id": "9b86e5e8",
   "metadata": {},
   "outputs": [
    {
     "data": {
      "text/plain": [
       "-0.3531808954663761"
      ]
     },
     "execution_count": 51,
     "metadata": {},
     "output_type": "execute_result"
    }
   ],
   "source": [
    "rho(0.4995, 0.5500, 1, 0.04856, 0, 0.7801, 'put')"
   ]
  },
  {
   "cell_type": "code",
   "execution_count": 52,
   "id": "db82e5e4",
   "metadata": {},
   "outputs": [],
   "source": [
    "r = np.linspace(0,0.1,11)\n",
    "Rho_Call = np.zeros((len(r),1))\n",
    "Rho_Put = np.zeros((len(r),1))\n",
    "for i in range(len(r)):\n",
    "    Rho_Call [i] = rho(0.4995, 0.5500, 1, r[i], 0, 0.7801, 'call')\n",
    "    Rho_Put [i] = rho(0.4995, 0.5500, 1, r[i], 0, 0.7801, 'put')"
   ]
  },
  {
   "cell_type": "code",
   "execution_count": 53,
   "id": "0bfd09c3",
   "metadata": {},
   "outputs": [
    {
     "data": {
      "text/plain": [
       "<matplotlib.legend.Legend at 0x7f8ee6bf0e80>"
      ]
     },
     "execution_count": 53,
     "metadata": {},
     "output_type": "execute_result"
    },
    {
     "data": {
      "image/png": "[encoded data removed]",
      "text/plain": [
       "<Figure size 640x480 with 1 Axes>"
      ]
     },
     "metadata": {},
     "output_type": "display_data"
    }
   ],
   "source": [
    "fig = plt.figure()\n",
    "plt.plot(r, Rho_Call, '-')\n",
    "plt.plot(r, Rho_Put, '-')\n",
    "plt.grid()\n",
    "plt.xlabel('Interest Rate')\n",
    "plt.ylabel('Rho')\n",
    "plt.title('Rho')\n",
    "plt.legend(['Rho for Call', 'Rho for Put'])"
   ]
  },
  {
   "cell_type": "markdown",
   "id": "55205cbc",
   "metadata": {},
   "source": [
    "### 6 - VEGA, Unit: Dollar $\n",
    "\n",
    "##### Vega measures sensitivity to volatility. Vega is the derivative of the option value with respect to the volatility of the underlying asset."
   ]
  },
  {
   "cell_type": "code",
   "execution_count": 54,
   "id": "11c020c9",
   "metadata": {},
   "outputs": [],
   "source": [
    "def vega(S, K, T, r, q, vol, payoff):\n",
    "    \n",
    "    d1 = (np.log(S / K) + (r - q + 0.5 * vol ** 2) * T) / (vol * np.sqrt(T))\n",
    "    vega = S * np.sqrt(T) * np.exp(-q * T) * si.norm.pdf(d1, 0.0, 1.0)\n",
    "    \n",
    "    return vega"
   ]
  },
  {
   "cell_type": "code",
   "execution_count": 55,
   "id": "e8bc1fa4",
   "metadata": {},
   "outputs": [
    {
     "data": {
      "text/plain": [
       "0.18878362389160488"
      ]
     },
     "execution_count": 55,
     "metadata": {},
     "output_type": "execute_result"
    }
   ],
   "source": [
    "vega(0.4995, 0.5500, 1, 0.04856, 0, 0.7801, 'put')"
   ]
  },
  {
   "cell_type": "code",
   "execution_count": 56,
   "id": "fcdc139a",
   "metadata": {},
   "outputs": [
    {
     "data": {
      "text/plain": [
       "0.18878362389160488"
      ]
     },
     "execution_count": 56,
     "metadata": {},
     "output_type": "execute_result"
    }
   ],
   "source": [
    "vega(0.4995, 0.5500, 1, 0.04856, 0, 0.7801, 'call')"
   ]
  },
  {
   "cell_type": "code",
   "execution_count": 57,
   "id": "279767f6",
   "metadata": {},
   "outputs": [],
   "source": [
    "vol = np.linspace(0.2,1,11)\n",
    "Vega = np.zeros((len(vol),1))\n",
    "for i in range(len(vol)):\n",
    "    Vega [i] = vega(0.4995, 0.5500, 0.25, 0.04856, 1, vol[i], 'put')"
   ]
  },
  {
   "cell_type": "code",
   "execution_count": 58,
   "id": "4a23c04e",
   "metadata": {},
   "outputs": [
    {
     "data": {
      "text/plain": [
       "<matplotlib.legend.Legend at 0x7f8ee70175e0>"
      ]
     },
     "execution_count": 58,
     "metadata": {},
     "output_type": "execute_result"
    },
    {
     "data": {
      "image/png": "[encoded data removed]",
      "text/plain": [
       "<Figure size 640x480 with 1 Axes>"
      ]
     },
     "metadata": {},
     "output_type": "display_data"
    }
   ],
   "source": [
    "fig = plt.figure()\n",
    "plt.plot(vol, Vega, '-')\n",
    "plt.grid()\n",
    "plt.xlabel('Volatility')\n",
    "plt.ylabel('Vega')\n",
    "plt.title('Vega')\n",
    "plt.legend(['Vega for Put and Call'])"
   ]
  },
  {
   "cell_type": "code",
   "execution_count": 59,
   "id": "8a4398b5",
   "metadata": {},
   "outputs": [
    {
     "name": "stdout",
     "output_type": "stream",
     "text": [
      "The value of Vega is 0.1888 . If volatility increases by 1%, the value of the option increases by $ 0.001888 .\n"
     ]
    }
   ],
   "source": [
    "v = vega(0.4995, 0.5500, 1, 0.04856, 0, 0.7801, 'put')\n",
    "print('The value of Vega is', v.round(4),'.','If volatility increases by 1%, the value of the option increases by $', v.round(4)*0.01, '.')"
   ]
  }
 ],
 "metadata": {
  "kernelspec": {
   "display_name": "Python 3 (ipykernel)",
   "language": "python",
   "name": "python3"
  },
  "language_info": {
   "codemirror_mode": {
    "name": "ipython",
    "version": 3
   },
   "file_extension": ".py",
   "mimetype": "text/x-python",
   "name": "python",
   "nbconvert_exporter": "python",
   "pygments_lexer": "ipython3",
   "version": "3.9.13"
  }
 },
 "nbformat": 4,
 "nbformat_minor": 5
}
